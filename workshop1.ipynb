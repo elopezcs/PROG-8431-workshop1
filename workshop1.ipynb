{
 "cells": [
  {
   "cell_type": "markdown",
   "id": "612ff236",
   "metadata": {},
   "source": [
    "# Conestoga College\n",
    "\n",
    "## Course: Data Analysis Mathematics, Algorithms and Modeling\n"
   ]
  },
  {
   "cell_type": "markdown",
   "id": "a54fb509",
   "metadata": {},
   "source": [
    "### Problem Analysis Workshop 1\n"
   ]
  },
  {
   "cell_type": "markdown",
   "id": "b97946d2",
   "metadata": {},
   "source": [
    "Group members:\n",
    "\n",
    "- Jiho Jun - 9080800\n",
    "- Vishnu Sivaraj - 9025320\n",
    "- Edwin Lopez - 9055061\n"
   ]
  },
  {
   "cell_type": "markdown",
   "id": "bbf82a64",
   "metadata": {},
   "source": [
    "## Question:\n",
    "\n",
    "### Predicting hospital readmission for diabetes patients within 30 days\n",
    "\n",
    "Machine learning can help predict 30-day hospital readmissions in diabetes patients by analyzing medical and demographic data.\n",
    "\n",
    "Using datasets like the Diabetes 130-US Hospitals records, models can identify high-risk patients, support early interventions, and reduce healthcare costs.\n",
    "\n",
    "URL: https://www.kaggle.com/datasets/brandao/diabetes\n"
   ]
  },
  {
   "cell_type": "code",
   "execution_count": null,
   "id": "f746800e",
   "metadata": {},
   "outputs": [],
   "source": [
    "# Install necessary packages\n",
    "\n",
    "# !pip install -q kaggle pandas"
   ]
  },
  {
   "cell_type": "code",
   "execution_count": 1,
   "id": "00892ffe",
   "metadata": {},
   "outputs": [],
   "source": [
    "# import necessary libraries\n",
    "\n",
    "import os, json, pathlib\n",
    "from getpass import getpass"
   ]
  },
  {
   "cell_type": "code",
   "execution_count": 4,
   "id": "9e572342",
   "metadata": {},
   "outputs": [
    {
     "name": "stdout",
     "output_type": "stream",
     "text": [
      "Paste the contents of kaggle.json. Example: {\"username\":\"your_name\",\"key\":\"abcd...\"}\n"
     ]
    }
   ],
   "source": [
    "# Get Kaggle token from user input\n",
    "print(\"Paste the contents of kaggle.json. Example: {\\\"username\\\":\\\"your_name\\\",\\\"key\\\":\\\"abcd...\\\"}\")\n",
    "\n",
    "# get token string\n",
    "token_str = getpass(\"kaggle.json content: \")"
   ]
  },
  {
   "cell_type": "code",
   "execution_count": 5,
   "id": "ef5d15f7",
   "metadata": {},
   "outputs": [
    {
     "name": "stdout",
     "output_type": "stream",
     "text": [
      "Saved to C:\\Users\\Ed\\.kaggle\\kaggle.json\n"
     ]
    }
   ],
   "source": [
    "# save to ~/.kaggle/kaggle.json\n",
    "home = pathlib.Path.home()\n",
    "\n",
    "# make .kaggle directory\n",
    "kdir = home/\".kaggle\"\n",
    "\n",
    "# create directory if it doesn't exist\n",
    "kdir.mkdir(exist_ok=True)\n",
    "\n",
    "# write the token string to kaggle.json file\n",
    "(kdir/\"kaggle.json\").write_text(token_str)\n",
    "\n",
    "# set file permissions to read/write for user only\n",
    "os.chmod(kdir/\"kaggle.json\", 0o600)\n",
    "\n",
    "# confirm saved\n",
    "print(\"Saved to\", kdir/\"kaggle.json\")"
   ]
  },
  {
   "cell_type": "code",
   "execution_count": 6,
   "id": "11b5edb8",
   "metadata": {},
   "outputs": [],
   "source": [
    "# import KaggleApi and authenticate\n",
    "from kaggle.api.kaggle_api_extended import KaggleApi\n",
    "from pathlib import Path\n",
    "\n",
    "# authenticate\n",
    "api = KaggleApi()\n",
    "api.authenticate()"
   ]
  },
  {
   "cell_type": "code",
   "execution_count": 7,
   "id": "92b1241d",
   "metadata": {},
   "outputs": [
    {
     "name": "stdout",
     "output_type": "stream",
     "text": [
      "Downloading brandao/diabetes\n",
      "Dataset URL: https://www.kaggle.com/datasets/brandao/diabetes\n",
      "Complete.\n",
      "Files:\n",
      "- description.pdf\n",
      "- diabetic_data.csv\n"
     ]
    }
   ],
   "source": [
    "# path to download directory\n",
    "out_dir = Path(\"data/diabetes\")\n",
    "\n",
    "# create output directory if it doesn't exist\n",
    "out_dir.mkdir(parents=True, exist_ok=True)\n",
    "\n",
    "# dataset to download\n",
    "dataset = \"brandao/diabetes\"\n",
    "\n",
    "print(\"Downloading\", dataset)\n",
    "\n",
    "# download and unzip\n",
    "api.dataset_download_files(dataset, path=str(out_dir), unzip=True)\n",
    "\n",
    "print(\"Complete.\")\n",
    "\n",
    "print(\"Files:\")\n",
    "\n",
    "# list downloaded files\n",
    "for p in sorted(out_dir.rglob(\"*\")):\n",
    "    if p.is_file():\n",
    "        print(\"-\", p.relative_to(out_dir))"
   ]
  },
  {
   "cell_type": "code",
   "execution_count": null,
   "id": "1f739d86",
   "metadata": {},
   "outputs": [
    {
     "name": "stdout",
     "output_type": "stream",
     "text": [
      "(101766, 50)\n",
      "encounter_id                 int64\n",
      "patient_nbr                  int64\n",
      "race                        object\n",
      "gender                      object\n",
      "age                         object\n",
      "weight                      object\n",
      "admission_type_id            int64\n",
      "discharge_disposition_id     int64\n",
      "admission_source_id          int64\n",
      "time_in_hospital             int64\n",
      "payer_code                  object\n",
      "medical_specialty           object\n",
      "num_lab_procedures           int64\n",
      "num_procedures               int64\n",
      "num_medications              int64\n",
      "number_outpatient            int64\n",
      "number_emergency             int64\n",
      "number_inpatient             int64\n",
      "diag_1                      object\n",
      "diag_2                      object\n",
      "diag_3                      object\n",
      "number_diagnoses             int64\n",
      "max_glu_serum               object\n",
      "A1Cresult                   object\n",
      "metformin                   object\n",
      "repaglinide                 object\n",
      "nateglinide                 object\n",
      "chlorpropamide              object\n",
      "glimepiride                 object\n",
      "acetohexamide               object\n",
      "glipizide                   object\n",
      "glyburide                   object\n",
      "tolbutamide                 object\n",
      "pioglitazone                object\n",
      "rosiglitazone               object\n",
      "acarbose                    object\n",
      "miglitol                    object\n",
      "troglitazone                object\n",
      "tolazamide                  object\n",
      "examide                     object\n",
      "citoglipton                 object\n",
      "insulin                     object\n",
      "glyburide-metformin         object\n",
      "glipizide-metformin         object\n",
      "glimepiride-pioglitazone    object\n",
      "metformin-rosiglitazone     object\n",
      "metformin-pioglitazone      object\n",
      "change                      object\n",
      "diabetesMed                 object\n",
      "readmitted                  object\n",
      "dtype: object\n"
     ]
    },
    {
     "data": {
      "application/vnd.microsoft.datawrangler.viewer.v0+json": {
       "columns": [
        {
         "name": "index",
         "rawType": "int64",
         "type": "integer"
        },
        {
         "name": "encounter_id",
         "rawType": "int64",
         "type": "integer"
        },
        {
         "name": "patient_nbr",
         "rawType": "int64",
         "type": "integer"
        },
        {
         "name": "race",
         "rawType": "object",
         "type": "string"
        },
        {
         "name": "gender",
         "rawType": "object",
         "type": "string"
        },
        {
         "name": "age",
         "rawType": "object",
         "type": "string"
        },
        {
         "name": "weight",
         "rawType": "object",
         "type": "string"
        },
        {
         "name": "admission_type_id",
         "rawType": "int64",
         "type": "integer"
        },
        {
         "name": "discharge_disposition_id",
         "rawType": "int64",
         "type": "integer"
        },
        {
         "name": "admission_source_id",
         "rawType": "int64",
         "type": "integer"
        },
        {
         "name": "time_in_hospital",
         "rawType": "int64",
         "type": "integer"
        },
        {
         "name": "payer_code",
         "rawType": "object",
         "type": "string"
        },
        {
         "name": "medical_specialty",
         "rawType": "object",
         "type": "string"
        },
        {
         "name": "num_lab_procedures",
         "rawType": "int64",
         "type": "integer"
        },
        {
         "name": "num_procedures",
         "rawType": "int64",
         "type": "integer"
        },
        {
         "name": "num_medications",
         "rawType": "int64",
         "type": "integer"
        },
        {
         "name": "number_outpatient",
         "rawType": "int64",
         "type": "integer"
        },
        {
         "name": "number_emergency",
         "rawType": "int64",
         "type": "integer"
        },
        {
         "name": "number_inpatient",
         "rawType": "int64",
         "type": "integer"
        },
        {
         "name": "diag_1",
         "rawType": "object",
         "type": "string"
        },
        {
         "name": "diag_2",
         "rawType": "object",
         "type": "string"
        },
        {
         "name": "diag_3",
         "rawType": "object",
         "type": "string"
        },
        {
         "name": "number_diagnoses",
         "rawType": "int64",
         "type": "integer"
        },
        {
         "name": "max_glu_serum",
         "rawType": "object",
         "type": "unknown"
        },
        {
         "name": "A1Cresult",
         "rawType": "object",
         "type": "unknown"
        },
        {
         "name": "metformin",
         "rawType": "object",
         "type": "string"
        },
        {
         "name": "repaglinide",
         "rawType": "object",
         "type": "string"
        },
        {
         "name": "nateglinide",
         "rawType": "object",
         "type": "string"
        },
        {
         "name": "chlorpropamide",
         "rawType": "object",
         "type": "string"
        },
        {
         "name": "glimepiride",
         "rawType": "object",
         "type": "string"
        },
        {
         "name": "acetohexamide",
         "rawType": "object",
         "type": "string"
        },
        {
         "name": "glipizide",
         "rawType": "object",
         "type": "string"
        },
        {
         "name": "glyburide",
         "rawType": "object",
         "type": "string"
        },
        {
         "name": "tolbutamide",
         "rawType": "object",
         "type": "string"
        },
        {
         "name": "pioglitazone",
         "rawType": "object",
         "type": "string"
        },
        {
         "name": "rosiglitazone",
         "rawType": "object",
         "type": "string"
        },
        {
         "name": "acarbose",
         "rawType": "object",
         "type": "string"
        },
        {
         "name": "miglitol",
         "rawType": "object",
         "type": "string"
        },
        {
         "name": "troglitazone",
         "rawType": "object",
         "type": "string"
        },
        {
         "name": "tolazamide",
         "rawType": "object",
         "type": "string"
        },
        {
         "name": "examide",
         "rawType": "object",
         "type": "string"
        },
        {
         "name": "citoglipton",
         "rawType": "object",
         "type": "string"
        },
        {
         "name": "insulin",
         "rawType": "object",
         "type": "string"
        },
        {
         "name": "glyburide-metformin",
         "rawType": "object",
         "type": "string"
        },
        {
         "name": "glipizide-metformin",
         "rawType": "object",
         "type": "string"
        },
        {
         "name": "glimepiride-pioglitazone",
         "rawType": "object",
         "type": "string"
        },
        {
         "name": "metformin-rosiglitazone",
         "rawType": "object",
         "type": "string"
        },
        {
         "name": "metformin-pioglitazone",
         "rawType": "object",
         "type": "string"
        },
        {
         "name": "change",
         "rawType": "object",
         "type": "string"
        },
        {
         "name": "diabetesMed",
         "rawType": "object",
         "type": "string"
        },
        {
         "name": "readmitted",
         "rawType": "object",
         "type": "string"
        }
       ],
       "ref": "9308f96b-d76f-4e37-8905-3ca51b2c1287",
       "rows": [
        [
         "0",
         "2278392",
         "8222157",
         "Caucasian",
         "Female",
         "[0-10)",
         "?",
         "6",
         "25",
         "1",
         "1",
         "?",
         "Pediatrics-Endocrinology",
         "41",
         "0",
         "1",
         "0",
         "0",
         "0",
         "250.83",
         "?",
         "?",
         "1",
         null,
         null,
         "No",
         "No",
         "No",
         "No",
         "No",
         "No",
         "No",
         "No",
         "No",
         "No",
         "No",
         "No",
         "No",
         "No",
         "No",
         "No",
         "No",
         "No",
         "No",
         "No",
         "No",
         "No",
         "No",
         "No",
         "No",
         "NO"
        ],
        [
         "1",
         "149190",
         "55629189",
         "Caucasian",
         "Female",
         "[10-20)",
         "?",
         "1",
         "1",
         "7",
         "3",
         "?",
         "?",
         "59",
         "0",
         "18",
         "0",
         "0",
         "0",
         "276",
         "250.01",
         "255",
         "9",
         null,
         null,
         "No",
         "No",
         "No",
         "No",
         "No",
         "No",
         "No",
         "No",
         "No",
         "No",
         "No",
         "No",
         "No",
         "No",
         "No",
         "No",
         "No",
         "Up",
         "No",
         "No",
         "No",
         "No",
         "No",
         "Ch",
         "Yes",
         ">30"
        ],
        [
         "2",
         "64410",
         "86047875",
         "AfricanAmerican",
         "Female",
         "[20-30)",
         "?",
         "1",
         "1",
         "7",
         "2",
         "?",
         "?",
         "11",
         "5",
         "13",
         "2",
         "0",
         "1",
         "648",
         "250",
         "V27",
         "6",
         null,
         null,
         "No",
         "No",
         "No",
         "No",
         "No",
         "No",
         "Steady",
         "No",
         "No",
         "No",
         "No",
         "No",
         "No",
         "No",
         "No",
         "No",
         "No",
         "No",
         "No",
         "No",
         "No",
         "No",
         "No",
         "No",
         "Yes",
         "NO"
        ],
        [
         "3",
         "500364",
         "82442376",
         "Caucasian",
         "Male",
         "[30-40)",
         "?",
         "1",
         "1",
         "7",
         "2",
         "?",
         "?",
         "44",
         "1",
         "16",
         "0",
         "0",
         "0",
         "8",
         "250.43",
         "403",
         "7",
         null,
         null,
         "No",
         "No",
         "No",
         "No",
         "No",
         "No",
         "No",
         "No",
         "No",
         "No",
         "No",
         "No",
         "No",
         "No",
         "No",
         "No",
         "No",
         "Up",
         "No",
         "No",
         "No",
         "No",
         "No",
         "Ch",
         "Yes",
         "NO"
        ],
        [
         "4",
         "16680",
         "42519267",
         "Caucasian",
         "Male",
         "[40-50)",
         "?",
         "1",
         "1",
         "7",
         "1",
         "?",
         "?",
         "51",
         "0",
         "8",
         "0",
         "0",
         "0",
         "197",
         "157",
         "250",
         "5",
         null,
         null,
         "No",
         "No",
         "No",
         "No",
         "No",
         "No",
         "Steady",
         "No",
         "No",
         "No",
         "No",
         "No",
         "No",
         "No",
         "No",
         "No",
         "No",
         "Steady",
         "No",
         "No",
         "No",
         "No",
         "No",
         "Ch",
         "Yes",
         "NO"
        ]
       ],
       "shape": {
        "columns": 50,
        "rows": 5
       }
      },
      "text/html": [
       "<div>\n",
       "<style scoped>\n",
       "    .dataframe tbody tr th:only-of-type {\n",
       "        vertical-align: middle;\n",
       "    }\n",
       "\n",
       "    .dataframe tbody tr th {\n",
       "        vertical-align: top;\n",
       "    }\n",
       "\n",
       "    .dataframe thead th {\n",
       "        text-align: right;\n",
       "    }\n",
       "</style>\n",
       "<table border=\"1\" class=\"dataframe\">\n",
       "  <thead>\n",
       "    <tr style=\"text-align: right;\">\n",
       "      <th></th>\n",
       "      <th>encounter_id</th>\n",
       "      <th>patient_nbr</th>\n",
       "      <th>race</th>\n",
       "      <th>gender</th>\n",
       "      <th>age</th>\n",
       "      <th>weight</th>\n",
       "      <th>admission_type_id</th>\n",
       "      <th>discharge_disposition_id</th>\n",
       "      <th>admission_source_id</th>\n",
       "      <th>time_in_hospital</th>\n",
       "      <th>...</th>\n",
       "      <th>citoglipton</th>\n",
       "      <th>insulin</th>\n",
       "      <th>glyburide-metformin</th>\n",
       "      <th>glipizide-metformin</th>\n",
       "      <th>glimepiride-pioglitazone</th>\n",
       "      <th>metformin-rosiglitazone</th>\n",
       "      <th>metformin-pioglitazone</th>\n",
       "      <th>change</th>\n",
       "      <th>diabetesMed</th>\n",
       "      <th>readmitted</th>\n",
       "    </tr>\n",
       "  </thead>\n",
       "  <tbody>\n",
       "    <tr>\n",
       "      <th>0</th>\n",
       "      <td>2278392</td>\n",
       "      <td>8222157</td>\n",
       "      <td>Caucasian</td>\n",
       "      <td>Female</td>\n",
       "      <td>[0-10)</td>\n",
       "      <td>?</td>\n",
       "      <td>6</td>\n",
       "      <td>25</td>\n",
       "      <td>1</td>\n",
       "      <td>1</td>\n",
       "      <td>...</td>\n",
       "      <td>No</td>\n",
       "      <td>No</td>\n",
       "      <td>No</td>\n",
       "      <td>No</td>\n",
       "      <td>No</td>\n",
       "      <td>No</td>\n",
       "      <td>No</td>\n",
       "      <td>No</td>\n",
       "      <td>No</td>\n",
       "      <td>NO</td>\n",
       "    </tr>\n",
       "    <tr>\n",
       "      <th>1</th>\n",
       "      <td>149190</td>\n",
       "      <td>55629189</td>\n",
       "      <td>Caucasian</td>\n",
       "      <td>Female</td>\n",
       "      <td>[10-20)</td>\n",
       "      <td>?</td>\n",
       "      <td>1</td>\n",
       "      <td>1</td>\n",
       "      <td>7</td>\n",
       "      <td>3</td>\n",
       "      <td>...</td>\n",
       "      <td>No</td>\n",
       "      <td>Up</td>\n",
       "      <td>No</td>\n",
       "      <td>No</td>\n",
       "      <td>No</td>\n",
       "      <td>No</td>\n",
       "      <td>No</td>\n",
       "      <td>Ch</td>\n",
       "      <td>Yes</td>\n",
       "      <td>&gt;30</td>\n",
       "    </tr>\n",
       "    <tr>\n",
       "      <th>2</th>\n",
       "      <td>64410</td>\n",
       "      <td>86047875</td>\n",
       "      <td>AfricanAmerican</td>\n",
       "      <td>Female</td>\n",
       "      <td>[20-30)</td>\n",
       "      <td>?</td>\n",
       "      <td>1</td>\n",
       "      <td>1</td>\n",
       "      <td>7</td>\n",
       "      <td>2</td>\n",
       "      <td>...</td>\n",
       "      <td>No</td>\n",
       "      <td>No</td>\n",
       "      <td>No</td>\n",
       "      <td>No</td>\n",
       "      <td>No</td>\n",
       "      <td>No</td>\n",
       "      <td>No</td>\n",
       "      <td>No</td>\n",
       "      <td>Yes</td>\n",
       "      <td>NO</td>\n",
       "    </tr>\n",
       "    <tr>\n",
       "      <th>3</th>\n",
       "      <td>500364</td>\n",
       "      <td>82442376</td>\n",
       "      <td>Caucasian</td>\n",
       "      <td>Male</td>\n",
       "      <td>[30-40)</td>\n",
       "      <td>?</td>\n",
       "      <td>1</td>\n",
       "      <td>1</td>\n",
       "      <td>7</td>\n",
       "      <td>2</td>\n",
       "      <td>...</td>\n",
       "      <td>No</td>\n",
       "      <td>Up</td>\n",
       "      <td>No</td>\n",
       "      <td>No</td>\n",
       "      <td>No</td>\n",
       "      <td>No</td>\n",
       "      <td>No</td>\n",
       "      <td>Ch</td>\n",
       "      <td>Yes</td>\n",
       "      <td>NO</td>\n",
       "    </tr>\n",
       "    <tr>\n",
       "      <th>4</th>\n",
       "      <td>16680</td>\n",
       "      <td>42519267</td>\n",
       "      <td>Caucasian</td>\n",
       "      <td>Male</td>\n",
       "      <td>[40-50)</td>\n",
       "      <td>?</td>\n",
       "      <td>1</td>\n",
       "      <td>1</td>\n",
       "      <td>7</td>\n",
       "      <td>1</td>\n",
       "      <td>...</td>\n",
       "      <td>No</td>\n",
       "      <td>Steady</td>\n",
       "      <td>No</td>\n",
       "      <td>No</td>\n",
       "      <td>No</td>\n",
       "      <td>No</td>\n",
       "      <td>No</td>\n",
       "      <td>Ch</td>\n",
       "      <td>Yes</td>\n",
       "      <td>NO</td>\n",
       "    </tr>\n",
       "  </tbody>\n",
       "</table>\n",
       "<p>5 rows × 50 columns</p>\n",
       "</div>"
      ],
      "text/plain": [
       "   encounter_id  patient_nbr             race  gender      age weight  \\\n",
       "0       2278392      8222157        Caucasian  Female   [0-10)      ?   \n",
       "1        149190     55629189        Caucasian  Female  [10-20)      ?   \n",
       "2         64410     86047875  AfricanAmerican  Female  [20-30)      ?   \n",
       "3        500364     82442376        Caucasian    Male  [30-40)      ?   \n",
       "4         16680     42519267        Caucasian    Male  [40-50)      ?   \n",
       "\n",
       "   admission_type_id  discharge_disposition_id  admission_source_id  \\\n",
       "0                  6                        25                    1   \n",
       "1                  1                         1                    7   \n",
       "2                  1                         1                    7   \n",
       "3                  1                         1                    7   \n",
       "4                  1                         1                    7   \n",
       "\n",
       "   time_in_hospital  ... citoglipton insulin  glyburide-metformin  \\\n",
       "0                 1  ...          No      No                   No   \n",
       "1                 3  ...          No      Up                   No   \n",
       "2                 2  ...          No      No                   No   \n",
       "3                 2  ...          No      Up                   No   \n",
       "4                 1  ...          No  Steady                   No   \n",
       "\n",
       "   glipizide-metformin  glimepiride-pioglitazone  metformin-rosiglitazone  \\\n",
       "0                   No                        No                       No   \n",
       "1                   No                        No                       No   \n",
       "2                   No                        No                       No   \n",
       "3                   No                        No                       No   \n",
       "4                   No                        No                       No   \n",
       "\n",
       "   metformin-pioglitazone  change diabetesMed readmitted  \n",
       "0                      No      No          No         NO  \n",
       "1                      No      Ch         Yes        >30  \n",
       "2                      No      No         Yes         NO  \n",
       "3                      No      Ch         Yes         NO  \n",
       "4                      No      Ch         Yes         NO  \n",
       "\n",
       "[5 rows x 50 columns]"
      ]
     },
     "execution_count": 8,
     "metadata": {},
     "output_type": "execute_result"
    },
    {
     "ename": "",
     "evalue": "",
     "output_type": "error",
     "traceback": [
      "\u001b[1;31mThe Kernel crashed while executing code in the current cell or a previous cell. \n",
      "\u001b[1;31mPlease review the code in the cell(s) to identify a possible cause of the failure. \n",
      "\u001b[1;31mClick <a href='https://aka.ms/vscodeJupyterKernelCrash'>here</a> for more info. \n",
      "\u001b[1;31mView Jupyter <a href='command:jupyter.viewOutput'>log</a> for further details."
     ]
    }
   ],
   "source": [
    "# import pandas\n",
    "import pandas as pd\n",
    "\n",
    "# path to the CSV file\n",
    "file_path = \"data/diabetes/diabetic_data.csv\"\n",
    "\n",
    "# Load the CSV into a DataFrame\n",
    "df = pd.read_csv(file_path)\n",
    "\n",
    "# Show basic info and first few rows\n",
    "print(df.shape)\n",
    "\n",
    "# data types of each column\n",
    "print(df.dtypes)\n",
    "\n",
    "# first few rows\n",
    "df.head()\n"
   ]
  },
  {
   "cell_type": "markdown",
   "id": "28d9a73d",
   "metadata": {},
   "source": [
    "# Data Cleansing\n"
   ]
  },
  {
   "cell_type": "markdown",
   "id": "c839aa25",
   "metadata": {},
   "source": [
    "This data needs cleansing before analysis:\n",
    "\n",
    "1. Handle missing and unknown values\n",
    "\n",
    "   - Many categorical fields use \"?\" or \"Unknown/Invalid\" instead of nulls.\n",
    "\n",
    "2. Simplify target variable\n",
    "\n",
    "   - The field **readmitted** has three categories:  \n",
    "     \"NO\"\n",
    "\n",
    "     \">30\" (readmitted after 30 days)\n",
    "\n",
    "     \"<30\" (readmitted within 30 days).\n",
    "\n",
    "     Collapse into binary classification:\n",
    "\n",
    "     1 = readmitted within 30 days (\"<30\")\n",
    "\n",
    "     0 = not readmitted (\"NO\" or \">30\").\n",
    "\n",
    "3. Encode categorical variables\n",
    "\n",
    "   - Convert age from intervals (e.g. [70-80)) to numeric midpoints (e.g. 75).\n",
    "\n",
    "4. Reduce dimensionality of diagnoses\n",
    "\n",
    "   - There are hundreds of unique codes, which create sparse features ( diag_1, diag_2, diag_3 )\n",
    "   - There are hundreds of unique codes, which create sparse features.  \n",
    "     Approach: Group into broader disease categories (circulatory, respiratory, digestive, diabetes-related, etc.).\n",
    "\n",
    "5. Address class imbalance\n",
    "   - Address Class Imbalance. In this data, about 11% of cases are readmitted within 30 days.\n",
    "   - Undersample majority class.\n"
   ]
  }
 ],
 "metadata": {
  "kernelspec": {
   "display_name": ".venv",
   "language": "python",
   "name": "python3"
  },
  "language_info": {
   "codemirror_mode": {
    "name": "ipython",
    "version": 3
   },
   "file_extension": ".py",
   "mimetype": "text/x-python",
   "name": "python",
   "nbconvert_exporter": "python",
   "pygments_lexer": "ipython3",
   "version": "3.12.0"
  }
 },
 "nbformat": 4,
 "nbformat_minor": 5
}

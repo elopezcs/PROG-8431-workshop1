{
 "cells": [
  {
   "cell_type": "markdown",
   "id": "a54fb509",
   "metadata": {},
   "source": [
    "# Problem Analysis Workshop 1\n"
   ]
  },
  {
   "cell_type": "markdown",
   "id": "b97946d2",
   "metadata": {},
   "source": [
    "Group members:\n",
    "\n",
    "- Jiho Jun - 9080800\n",
    "- Vishnu Sivaraj - 9025320\n",
    "- Edwin Lopez - 9055061\n"
   ]
  },
  {
   "cell_type": "markdown",
   "id": "bbf82a64",
   "metadata": {},
   "source": [
    "## Question:\n",
    "\n",
    "### Predicting hospital readmission for diabetes patients within 30 days\n"
   ]
  },
  {
   "cell_type": "code",
   "execution_count": null,
   "id": "f746800e",
   "metadata": {},
   "outputs": [],
   "source": [
    "# %pip install numpy"
   ]
  },
  {
   "cell_type": "code",
   "execution_count": null,
   "id": "27261231",
   "metadata": {},
   "outputs": [],
   "source": [
    "# !pip install -q kaggle pandas"
   ]
  },
  {
   "cell_type": "code",
   "execution_count": null,
   "id": "00892ffe",
   "metadata": {},
   "outputs": [],
   "source": [
    "import os, json, pathlib\n",
    "from getpass import getpass"
   ]
  },
  {
   "cell_type": "code",
   "execution_count": null,
   "id": "9e572342",
   "metadata": {},
   "outputs": [],
   "source": [
    "print(\"Paste the contents of kaggle.json. Example: {\\\"username\\\":\\\"your_name\\\",\\\"key\\\":\\\"abcd...\\\"}\")\n",
    "token_str = getpass(\"kaggle.json content: \")"
   ]
  },
  {
   "cell_type": "code",
   "execution_count": null,
   "id": "ef5d15f7",
   "metadata": {},
   "outputs": [],
   "source": [
    "home = pathlib.Path.home()\n",
    "kdir = home/\".kaggle\"\n",
    "kdir.mkdir(exist_ok=True)\n",
    "(kdir/\"kaggle.json\").write_text(token_str)\n",
    "os.chmod(kdir/\"kaggle.json\", 0o600)\n",
    "print(\"Saved to\", kdir/\"kaggle.json\")"
   ]
  },
  {
   "cell_type": "code",
   "execution_count": null,
   "id": "11b5edb8",
   "metadata": {},
   "outputs": [],
   "source": [
    "from kaggle.api.kaggle_api_extended import KaggleApi\n",
    "from pathlib import Path\n",
    "\n",
    "api = KaggleApi()\n",
    "api.authenticate()"
   ]
  },
  {
   "cell_type": "code",
   "execution_count": null,
   "id": "92b1241d",
   "metadata": {},
   "outputs": [],
   "source": [
    "out_dir = Path(\"data/diabetes\")\n",
    "out_dir.mkdir(parents=True, exist_ok=True)\n",
    "\n",
    "dataset = \"brandao/diabetes\"\n",
    "print(\"Downloading\", dataset)\n",
    "api.dataset_download_files(dataset, path=str(out_dir), unzip=True)\n",
    "print(\"Complete.\")\n",
    "\n",
    "print(\"Files:\")\n",
    "for p in sorted(out_dir.rglob(\"*\")):\n",
    "    if p.is_file():\n",
    "        print(\"-\", p.relative_to(out_dir))"
   ]
  },
  {
   "cell_type": "code",
   "execution_count": null,
   "id": "1f739d86",
   "metadata": {},
   "outputs": [],
   "source": [
    "import pandas as pd\n",
    "\n",
    "# Update the path if your dataset is saved elsewhere\n",
    "file_path = \"data/diabetes/diabetic_data.csv\"\n",
    "\n",
    "# Load the CSV into a DataFrame\n",
    "df = pd.read_csv(file_path)\n",
    "\n",
    "# Show basic info and first few rows\n",
    "print(df.shape)\n",
    "print(df.dtypes)\n",
    "df.head()\n"
   ]
  },
  {
   "cell_type": "markdown",
   "id": "28d9a73d",
   "metadata": {},
   "source": [
    "# Data Cleansing\n"
   ]
  },
  {
   "cell_type": "markdown",
   "id": "c839aa25",
   "metadata": {},
   "source": [
    "This data needs cleansing before analysis:\n",
    "\n",
    "1. Handle missing and unknown values\n",
    "\n",
    "   - Many categorical fields use \"?\" or \"Unknown/Invalid\" instead of nulls.\n",
    "\n",
    "2. Simplify target variable\n",
    "\n",
    "   - The field **readmitted** has three categories:  \n",
    "     \"NO\"\n",
    "\n",
    "     \">30\" (readmitted after 30 days)\n",
    "\n",
    "     \"<30\" (readmitted within 30 days).\n",
    "\n",
    "     Collapse into binary classification:\n",
    "\n",
    "     1 = readmitted within 30 days (\"<30\")\n",
    "\n",
    "     0 = not readmitted (\"NO\" or \">30\").\n",
    "\n",
    "3. Encode categorical variables\n",
    "\n",
    "   - Convert age from intervals (e.g. [70-80)) to numeric midpoints (e.g. 75).\n",
    "\n",
    "4. Reduce dimensionality of diagnoses\n",
    "\n",
    "   - There are hundreds of unique codes, which create sparse features ( diag_1, diag_2, diag_3 )\n",
    "   - There are hundreds of unique codes, which create sparse features.  \n",
    "     Approach: Group into broader disease categories (circulatory, respiratory, digestive, diabetes-related, etc.).\n",
    "\n",
    "5. Address class imbalance\n",
    "   - Address Class Imbalance. In this data, about 11% of cases are readmitted within 30 days.\n",
    "   - Undersample majority class.\n"
   ]
  }
 ],
 "metadata": {
  "kernelspec": {
   "display_name": ".venv",
   "language": "python",
   "name": "python3"
  },
  "language_info": {
   "codemirror_mode": {
    "name": "ipython",
    "version": 3
   },
   "file_extension": ".py",
   "mimetype": "text/x-python",
   "name": "python",
   "nbconvert_exporter": "python",
   "pygments_lexer": "ipython3",
   "version": "3.12.0"
  }
 },
 "nbformat": 4,
 "nbformat_minor": 5
}
